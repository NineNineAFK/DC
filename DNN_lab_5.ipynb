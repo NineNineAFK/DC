{
  "nbformat": 4,
  "nbformat_minor": 0,
  "metadata": {
    "colab": {
      "provenance": [],
      "include_colab_link": true
    },
    "kernelspec": {
      "name": "python3",
      "display_name": "Python 3"
    },
    "language_info": {
      "name": "python"
    }
  },
  "cells": [
    {
      "cell_type": "markdown",
      "metadata": {
        "id": "view-in-github",
        "colab_type": "text"
      },
      "source": [
        "<a href=\"https://colab.research.google.com/github/NineNineAFK/DC/blob/master/DNN_lab_5.ipynb\" target=\"_parent\"><img src=\"https://colab.research.google.com/assets/colab-badge.svg\" alt=\"Open In Colab\"/></a>"
      ]
    },
    {
      "cell_type": "code",
      "execution_count": null,
      "metadata": {
        "colab": {
          "base_uri": "https://localhost:8080/"
        },
        "id": "0tuTNfyx8N-U",
        "outputId": "128e0489-a117-4e76-e3e8-3c4cffb43634"
      },
      "outputs": [
        {
          "output_type": "stream",
          "name": "stdout",
          "text": [
            "Hessian matrix:\n",
            "Matrix([[4, 3, 0], [3, 20, 8], [0, 8, 12*z]])\n"
          ]
        }
      ],
      "source": [
        "import sympy as sp\n",
        "\n",
        "def compute_hessian(f, variables):\n",
        "    gradient = [sp.diff(f, var) for var in variables]\n",
        "    hessian = sp.Matrix([[sp.diff(gradient[i], var) for var in variables] for i in range(len(variables))])\n",
        "    return hessian\n",
        "\n",
        "# Example usage:\n",
        "if __name__ == \"__main__\":\n",
        "    x, y, z = sp.symbols('x y z')\n",
        "    f = 2*x**2 + 3*x*y + 10*y**2 + 8*y*z + 2*z**3\n",
        "    variables = [x, y, z]\n",
        "    hessian = compute_hessian(f, variables)\n",
        "    print(\"Hessian matrix:\")\n",
        "    print(hessian)"
      ]
    },
    {
      "cell_type": "code",
      "source": [
        "import sympy as sp\n",
        "\n",
        "def compute_hessian(f, variables):\n",
        "\n",
        "    # Compute gradient (first-order partial derivatives)\n",
        "    gradient = [sp.diff(f, var) for var in variables]\n",
        "\n",
        "    # Compute Hessian matrix (second-order partial derivatives)\n",
        "    hessian = sp.Matrix([[sp.diff(gradient[i], var) for var in variables]\n",
        "                         for i in range(len(variables))])\n",
        "\n",
        "    return hessian\n",
        "\n",
        "if __name__ == \"__main__\":\n",
        "    # Define symbolic variables\n",
        "    x, y, z = sp.symbols('x y z')\n",
        "\n",
        "    # Define the scalar-valued multivariate function\n",
        "    f = 2*x**2 + 3*x*y + 10*y**2 + 8*y*z + 2*z**3\n",
        "\n",
        "    # List of variables\n",
        "    variables = [x, y, z]\n",
        "\n",
        "    # Compute the Hessian matrix\n",
        "    hessian = compute_hessian(f, variables)\n",
        "\n",
        "    # Display result\n",
        "    print(\"Hessian matrix:\")\n",
        "    sp.pprint(hessian)\n",
        "\n"
      ],
      "metadata": {
        "colab": {
          "base_uri": "https://localhost:8080/"
        },
        "id": "-Ss5GlKK8t29",
        "outputId": "14ad42ed-c56c-4fcd-94ef-c0e8723cbdf8"
      },
      "execution_count": null,
      "outputs": [
        {
          "output_type": "stream",
          "name": "stdout",
          "text": [
            "Hessian matrix:\n",
            "⎡4  3    0  ⎤\n",
            "⎢           ⎥\n",
            "⎢3  20   8  ⎥\n",
            "⎢           ⎥\n",
            "⎣0  8   12⋅z⎦\n"
          ]
        }
      ]
    },
    {
      "cell_type": "code",
      "source": [
        "import numpy as np\n",
        "from scipy.linalg import eigh  # For eigenvalues\n",
        "\n",
        "# 1. Define the objective function\n",
        "def objective_function(x):\n",
        "    # Example: f(x, y, z) = 2x^2 + 3xy + 10y^2 + 8yz + 2z^3\n",
        "    return 2*x[0]**2 + 3*x[0]*x[1] + 10*x[1]**2 + 8*x[1]*x[2] + 2*x[2]**3\n",
        "\n",
        "# 2 & 3. Compute Hessian matrix using finite differences\n",
        "def compute_hessian_fd(f, x, h=1e-5):\n",
        "    n = len(x)\n",
        "    hessian = np.zeros((n, n))\n",
        "    for i in range(n):\n",
        "        for j in range(n):\n",
        "            x1 = x.copy(); x1[i] += h; x1[j] += h\n",
        "            x2 = x.copy(); x2[i] += h; x2[j] -= h\n",
        "            x3 = x.copy(); x3[i] -= h; x3[j] += h\n",
        "            x4 = x.copy(); x4[i] -= h; x4[j] -= h\n",
        "            hessian[i, j] = (f(x1) - f(x2) - f(x3) + f(x4)) / (4*h**2)\n",
        "    return hessian\n",
        "\n",
        "# 4, 5, 6. Analyze Hessian\n",
        "def analyze_hessian(hessian):\n",
        "    rounded_hessian = np.round(hessian, 3)\n",
        "    print(\"\\nHessian Matrix:\")\n",
        "    print(rounded_hessian)\n",
        "\n",
        "    # Symmetry check\n",
        "    is_symmetric = np.allclose(hessian, hessian.T)\n",
        "    print(\"Is Symmetric:\", is_symmetric)\n",
        "\n",
        "    # Eigenvalues and definiteness\n",
        "    eigenvalues = eigh(hessian, eigvals_only=True)\n",
        "    print(\"Eigenvalues:\", np.round(eigenvalues, 5))\n",
        "\n",
        "    is_positive_definite = np.all(eigenvalues > 0)\n",
        "    print(\"Is Positive Definite:\", is_positive_definite)\n",
        "\n",
        "    # ✅ Determinant\n",
        "    determinant = np.linalg.det(hessian)\n",
        "    print(\"Determinant of Hessian:\", round(determinant, 5))\n",
        "\n",
        "    # Interpretation\n",
        "    if is_positive_definite:\n",
        "        print(\"→ The function has a local minimum at the point.\")\n",
        "    elif np.all(eigenvalues < 0):\n",
        "        print(\"→ The function has a local maximum at the point.\")\n",
        "    else:\n",
        "        print(\"→ The function has a saddle point at the point.\")\n",
        "\n",
        "# Main function\n",
        "if __name__ == \"__main__\":\n",
        "    point = np.array([1.0, 1.0, 1.0])  # Evaluation point\n",
        "    hessian = compute_hessian_fd(objective_function, point)\n",
        "    analyze_hessian(hessian)"
      ],
      "metadata": {
        "colab": {
          "base_uri": "https://localhost:8080/"
        },
        "id": "H1HEPQ-AN6cp",
        "outputId": "4d5e0d53-8d44-407b-9847-21409df60439"
      },
      "execution_count": null,
      "outputs": [
        {
          "output_type": "stream",
          "name": "stdout",
          "text": [
            "\n",
            "Hessian Matrix:\n",
            "[[ 4.  3.  0.]\n",
            " [ 3. 20.  8.]\n",
            " [ 0.  8. 12.]]\n",
            "Is Symmetric: True\n",
            "Eigenvalues: [ 3.07699  7.67034 25.2527 ]\n",
            "Is Positive Definite: True\n",
            "Determinant of Hessian: 596.00299\n",
            "→ The function has a local minimum at the point.\n"
          ]
        }
      ]
    }
  ]
}