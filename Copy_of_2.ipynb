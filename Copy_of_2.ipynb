{
  "nbformat": 4,
  "nbformat_minor": 0,
  "metadata": {
    "colab": {
      "provenance": [],
      "gpuType": "T4",
      "include_colab_link": true
    },
    "kernelspec": {
      "name": "python3",
      "display_name": "Python 3"
    },
    "language_info": {
      "name": "python"
    },
    "accelerator": "GPU"
  },
  "cells": [
    {
      "cell_type": "markdown",
      "metadata": {
        "id": "view-in-github",
        "colab_type": "text"
      },
      "source": [
        "<a href=\"https://colab.research.google.com/github/NineNineAFK/DC/blob/master/Copy_of_2.ipynb\" target=\"_parent\"><img src=\"https://colab.research.google.com/assets/colab-badge.svg\" alt=\"Open In Colab\"/></a>"
      ]
    },
    {
      "cell_type": "code",
      "source": [
        "!nvcc --version"
      ],
      "metadata": {
        "colab": {
          "base_uri": "https://localhost:8080/"
        },
        "id": "tUzzxj8AaL4F",
        "outputId": "8e4fd0cd-651c-44d6-9524-8ba9e313db9b"
      },
      "execution_count": null,
      "outputs": [
        {
          "output_type": "stream",
          "name": "stdout",
          "text": [
            "nvcc: NVIDIA (R) Cuda compiler driver\n",
            "Copyright (c) 2005-2024 NVIDIA Corporation\n",
            "Built on Thu_Jun__6_02:18:23_PDT_2024\n",
            "Cuda compilation tools, release 12.5, V12.5.82\n",
            "Build cuda_12.5.r12.5/compiler.34385749_0\n"
          ]
        }
      ]
    },
    {
      "cell_type": "code",
      "source": [
        "%%writefile matrix_mul.cu\n",
        "#include <iostream>\n",
        "#include <cuda_runtime.h>\n",
        "#include <cstdlib>\n",
        "#include <vector>\n",
        "\n",
        "#define N 3               // Matrix dimension (NxN)\n",
        "#define BLOCK_SIZE 16     // Max number of threads per block dimension\n",
        "\n",
        "using namespace std;\n",
        "\n",
        "// CUDA kernel for matrix multiplication\n",
        "__global__ void matMulKernel(float* A, float* B, float* C, int n) {\n",
        "    // Calculate row and column index for the element this thread will compute\n",
        "    int row = blockIdx.y * blockDim.y + threadIdx.y;\n",
        "    int col = blockIdx.x * blockDim.x + threadIdx.x;\n",
        "    float sum = 0.0f;\n",
        "\n",
        "    // Perform the dot product of row from A and column from B\n",
        "    for (int k = 0; k < n; ++k) {\n",
        "        if (row < n && col < n) {\n",
        "            sum += A[row * n + k] * B[k * n + col];\n",
        "        }\n",
        "    }\n",
        "\n",
        "    // Store the result in matrix C\n",
        "    if (row < n && col < n) {\n",
        "        C[row * n + col] = sum;\n",
        "    }\n",
        "}\n",
        "\n",
        "// Helper function to print a matrix\n",
        "void printMatrix(float* mat, int n, const char* name) {\n",
        "    cout << name << \":\\n\";\n",
        "    for (int i = 0; i < n; i++) {\n",
        "        for (int j = 0; j < n; j++) {\n",
        "            cout << mat[i * n + j] << \" \";\n",
        "        }\n",
        "        cout << \"\\n\";\n",
        "    }\n",
        "}\n",
        "\n",
        "// Helper function to take matrix input from the user\n",
        "void takeInput(float* mat, int n) {\n",
        "    cout << \"Enter elements of the matrix (\" << n << \"x\" << n << \"):\\n\";\n",
        "    for (int i = 0; i < n; ++i) {\n",
        "        for (int j = 0; j < n; ++j) {\n",
        "            cout << \"Element [\" << i + 1 << \"][\" << j + 1 << \"]: \";\n",
        "            cin >> mat[i * n + j];\n",
        "        }\n",
        "    }\n",
        "}\n",
        "\n",
        "int main() {\n",
        "    size_t size = N * N * sizeof(float); // Total size of each matrix in bytes\n",
        "\n",
        "    // Allocate host memory for matrices A, B, and C\n",
        "    float *h_A = new float[N * N], *h_B = new float[N * N], *h_C = new float[N * N];\n",
        "\n",
        "    // Take input for matrices A and B from the user\n",
        "    takeInput(h_A, N);\n",
        "    takeInput(h_B, N);\n",
        "\n",
        "    // Allocate device memory for matrices A, B, and C\n",
        "    float *d_A, *d_B, *d_C;\n",
        "    cudaMalloc(&d_A, size);\n",
        "    cudaMalloc(&d_B, size);\n",
        "    cudaMalloc(&d_C, size);\n",
        "\n",
        "    // Copy host matrices A and B to device memory\n",
        "    cudaMemcpy(d_A, h_A, size, cudaMemcpyHostToDevice);\n",
        "    cudaMemcpy(d_B, h_B, size, cudaMemcpyHostToDevice);\n",
        "\n",
        "    // Check for CUDA-capable device\n",
        "    int deviceCount;\n",
        "    cudaGetDeviceCount(&deviceCount);\n",
        "    if (deviceCount == 0) {\n",
        "        cerr << \"No CUDA-capable devices found!\" << endl;\n",
        "        return -1;\n",
        "    }\n",
        "\n",
        "    // Use the first CUDA device\n",
        "    int deviceID = 0;\n",
        "    cudaSetDevice(deviceID);\n",
        "\n",
        "    // Print the name of the GPU being used\n",
        "    cudaDeviceProp deviceProp;\n",
        "    cudaGetDeviceProperties(&deviceProp, deviceID);\n",
        "    cout << \"Using GPU: \" << deviceProp.name << endl;\n",
        "\n",
        "    // Determine block and grid dimensions\n",
        "    int blockSize = min(deviceProp.maxThreadsPerBlock, BLOCK_SIZE);\n",
        "    dim3 threads(blockSize, blockSize); // Threads per block (blockDim)\n",
        "    dim3 blocks((N + blockSize - 1) / blockSize, (N + blockSize - 1) / blockSize); // Grid size (blockIdx)\n",
        "\n",
        "    // Launch the kernel\n",
        "    matMulKernel<<<blocks, threads>>>(d_A, d_B, d_C, N);\n",
        "\n",
        "    // Check for kernel launch errors\n",
        "    cudaError_t err = cudaGetLastError();\n",
        "    if (err != cudaSuccess) {\n",
        "        cerr << \"CUDA error: \" << cudaGetErrorString(err) << endl;\n",
        "        return -1;\n",
        "    }\n",
        "\n",
        "    // Copy the result matrix from device to host\n",
        "    cudaMemcpy(h_C, d_C, size, cudaMemcpyDeviceToHost);\n",
        "\n",
        "    // Print matrices if N is small enough\n",
        "    if (N <= 16) {\n",
        "        printMatrix(h_A, N, \"Matrix A\");\n",
        "        printMatrix(h_B, N, \"Matrix B\");\n",
        "        printMatrix(h_C, N, \"Matrix C\");\n",
        "    }\n",
        "\n",
        "    // Free device memory\n",
        "    cudaFree(d_A);\n",
        "    cudaFree(d_B);\n",
        "    cudaFree(d_C);\n",
        "\n",
        "    // Free host memory\n",
        "    delete[] h_A;\n",
        "    delete[] h_B;\n",
        "    delete[] h_C;\n",
        "\n",
        "    return 0;\n",
        "}"
      ],
      "metadata": {
        "colab": {
          "base_uri": "https://localhost:8080/"
        },
        "id": "AO9M1yRpbF0V",
        "outputId": "1de0ca82-0095-4fd8-e557-f1cf19486bc3"
      },
      "execution_count": null,
      "outputs": [
        {
          "output_type": "stream",
          "name": "stdout",
          "text": [
            "Overwriting matrix_mul.cu\n"
          ]
        }
      ]
    },
    {
      "cell_type": "code",
      "source": [
        "!nvcc matrix_mul.cu -o matrix_mul -arch=sm_75\n",
        "\n",
        "!./matrix_mul"
      ],
      "metadata": {
        "colab": {
          "base_uri": "https://localhost:8080/"
        },
        "id": "8Mhqt5_5bIVt",
        "outputId": "5f1855b8-b4dc-41b5-d1b5-a8045875c967"
      },
      "execution_count": null,
      "outputs": [
        {
          "output_type": "stream",
          "name": "stdout",
          "text": [
            "Enter elements of the matrix (3x3):\n",
            "Element [1][1]: 1\n",
            "Element [1][2]: 2\n",
            "Element [1][3]: 3\n",
            "Element [2][1]: 4\n",
            "Element [2][2]: 5\n",
            "Element [2][3]: 6\n",
            "Element [3][1]: 7\n",
            "Element [3][2]: 8\n",
            "Element [3][3]: 9\n",
            "Enter elements of the matrix (3x3):\n",
            "Element [1][1]: 9\n",
            "Element [1][2]: 8\n",
            "Element [1][3]: 7\n",
            "Element [2][1]: 6\n",
            "Element [2][2]: 5\n",
            "Element [2][3]: 4\n",
            "Element [3][1]: 3\n",
            "Element [3][2]: 2\n",
            "Element [3][3]: 1\n",
            "Using GPU: Tesla T4\n",
            "Matrix A:\n",
            "1 2 3 \n",
            "4 5 6 \n",
            "7 8 9 \n",
            "Matrix B:\n",
            "9 8 7 \n",
            "6 5 4 \n",
            "3 2 1 \n",
            "Matrix C:\n",
            "30 24 18 \n",
            "84 69 54 \n",
            "138 114 90 \n"
          ]
        }
      ]
    }
  ]
}